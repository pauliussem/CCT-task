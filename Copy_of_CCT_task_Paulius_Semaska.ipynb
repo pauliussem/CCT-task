{
  "nbformat": 4,
  "nbformat_minor": 0,
  "metadata": {
    "colab": {
      "provenance": []
    },
    "kernelspec": {
      "name": "python3",
      "display_name": "Python 3"
    },
    "language_info": {
      "name": "python"
    }
  },
  "cells": [
    {
      "cell_type": "code",
      "source": [
        "# Making a list, of a street lights.\n",
        "\n",
        "road_length = 100000\n",
        "street_lights = []\n",
        "\n",
        "for i in range(0, road_length + 1):\n",
        "    if i % 20 == 0:\n",
        "        street_lights.append(int(i / 20))\n",
        "\n",
        "print(\"There are\", len(street_lights), 'lights in a street.')\n",
        "\n"
      ],
      "metadata": {
        "colab": {
          "base_uri": "https://localhost:8080/"
        },
        "id": "V9f6_b9UIX9D",
        "outputId": "d1677552-49bc-4bac-9b54-4b6460d0798d"
      },
      "execution_count": 69,
      "outputs": [
        {
          "output_type": "stream",
          "name": "stdout",
          "text": [
            "There are 5001 lights in a street.\n"
          ]
        }
      ]
    },
    {
      "cell_type": "code",
      "source": [
        "# Creating a list of non_working lamps.\n",
        "\n",
        "import random\n",
        "\n",
        "non_working_street_lights = []\n",
        "\n",
        "for i in range (3500):\n",
        "    non_working_street_lights.append(random.randint(0, len(street_lights)))\n",
        "\n",
        "non_working_street_lights.sort()\n"
      ],
      "metadata": {
        "id": "1c4NkctXWNQU"
      },
      "execution_count": 64,
      "outputs": []
    },
    {
      "cell_type": "code",
      "source": [
        "# Finding the darkest street light.\n",
        "# If there is equal number of non working lamps in a row, indexes of 2 middle lamps are provided.\n",
        "\n",
        "most_in_a_row = []\n",
        "row = []\n",
        "\n",
        "\n",
        "for lamp in non_working_street_lights:\n",
        "    index = lamp\n",
        "    row.append(index)\n",
        "    for next_lamp in non_working_street_lights[1:]:\n",
        "        if index + 1 == next_lamp:\n",
        "            index = index + 1\n",
        "            row.append(next_lamp)\n",
        "            if len(row) > len(most_in_a_row):\n",
        "                most_in_a_row = []\n",
        "                most_in_a_row.extend(row)\n",
        "        else:\n",
        "            index = next_lamp\n",
        "            distance = 20\n",
        "            row = [index]\n",
        "    if len(most_in_a_row) % 2 != 0:\n",
        "                    index_of_darkest_street_light = int(sum(most_in_a_row) / len(most_in_a_row))\n",
        "                    print(\"Index of the darkest street light is: \", index_of_darkest_street_light)\n",
        "    else:\n",
        "        index_of_darkest_street_light = round(sum(most_in_a_row) / len(most_in_a_row))\n",
        "        print(f\"Lamp {index_of_darkest_street_light - 1} and {index_of_darkest_street_light} are the darkest street lights.\")\n",
        "    break\n",
        "\n",
        "print(most_in_a_row)"
      ],
      "metadata": {
        "colab": {
          "base_uri": "https://localhost:8080/"
        },
        "outputId": "d00d4e72-ee06-41d4-c40e-6dac3d719bca",
        "id": "0M4UVWZtROLv"
      },
      "execution_count": 65,
      "outputs": [
        {
          "output_type": "stream",
          "name": "stdout",
          "text": [
            "Index of the darkest street light is:  998\n",
            "[995, 996, 997, 998, 999, 1000, 1001]\n"
          ]
        }
      ]
    },
    {
      "cell_type": "code",
      "source": [
        "# I assume, that 1st non working lamp is 20 meters away from both sides. Every non working lamp in a row, adds 10 more meters (middle of non working lamps).\n",
        "# Calculation, from what distance illumination intensity is lower than 1 and the minimal number of light bulbs to be replaced to keep illumination intensity higher than 1.\n",
        "\n",
        "distance = 20\n",
        "intensity = 1\n",
        "in_a_row_to_be_replaced = 1\n",
        "\n",
        "while intensity >= 1:\n",
        "    intensity = (3**(-(distance/90)**2)) * 2\n",
        "# Multiply by 2, because illumination intensity comes from both sides.\n",
        "    distance += 10\n",
        "    in_a_row_to_be_replaced += 1\n",
        "\n",
        "print(f\"After {distance - 10} meters from working lamp, illumination intensity is lower than 1.\")\n",
        "print(f'If there are {in_a_row_to_be_replaced - 1} non working lamps in a row, 1 lamp has to be replaced, to keep illumination intesity lower than 1.')\n",
        "\n"
      ],
      "metadata": {
        "colab": {
          "base_uri": "https://localhost:8080/"
        },
        "id": "Qpef1UbH2hrU",
        "outputId": "0494550c-acae-47db-82d3-e9e6c2d77fee"
      },
      "execution_count": 66,
      "outputs": [
        {
          "output_type": "stream",
          "name": "stdout",
          "text": [
            "After 80 meters from working lamp, illumination intensity is lower than 1.\n",
            "If there are 7 non working lamps in a row, 1 lamp has to be replaced, to keep illumination intesity lower than 1.\n"
          ]
        }
      ]
    },
    {
      "cell_type": "code",
      "source": [
        "# Calculation of minimum number of lamps to be replaced in non_working_street_lights list. Considering that 1 lamp has to be replaced, if there are 7 non working lamps in a row.\n",
        "# It shows only the number of lamps, whose have to be replaced.\n",
        "\n",
        "distance = 20\n",
        "lowest_illumination = []\n",
        "row = []\n",
        "the_minimum_lamps_to_replace = 0\n",
        "\n",
        "for lamp in non_working_street_lights:\n",
        "    index = lamp\n",
        "    row.append(index)\n",
        "    for next_lamp in non_working_street_lights[1:]:\n",
        "        if index + 1 == next_lamp:\n",
        "            index = index + 1\n",
        "            row.append(next_lamp)\n",
        "            if len(row) % 7 == 0:\n",
        "                the_minimum_lamps_to_replace += 1\n",
        "        else:\n",
        "            index = next_lamp\n",
        "            distance = 20\n",
        "            row = [index]\n",
        "    break\n",
        "\n",
        "print(\"The minimum number of lamps, whose have to be replaced is: \", the_minimum_lamps_to_replace)"
      ],
      "metadata": {
        "colab": {
          "base_uri": "https://localhost:8080/"
        },
        "id": "0oB-A7Zf1INE",
        "outputId": "c1d8f3c4-0a29-4e68-ce9f-e03c9a71c2b2"
      },
      "execution_count": 67,
      "outputs": [
        {
          "output_type": "stream",
          "name": "stdout",
          "text": [
            "The minimum number of lamps, whose have to be replaced is:  5\n"
          ]
        }
      ]
    },
    {
      "cell_type": "code",
      "source": [
        "OR"
      ],
      "metadata": {
        "id": "D6NkoSRHHVci"
      },
      "execution_count": null,
      "outputs": []
    },
    {
      "cell_type": "code",
      "source": [
        "# Calculation of lists of indexes and number of lamps, whose have to be replaced lamps to be replaced. Considering that 1 lamp has to be replaced, if there are 7 non working lamps in a row.\n",
        "\n",
        "distance = 20\n",
        "lowest_illumination = []\n",
        "row = []\n",
        "the_minimum_lamps_to_replace = 0\n",
        "\n",
        "for lamp in non_working_street_lights:\n",
        "    index = lamp\n",
        "    row.append(index)\n",
        "    for next_lamp in non_working_street_lights[1:]:\n",
        "        if index + 1 == next_lamp:\n",
        "            index = index + 1\n",
        "            row.append(next_lamp)\n",
        "            if len(row) % 7 == 0:\n",
        "                the_minimum_lamps_to_replace += 1\n",
        "        else:\n",
        "            if len(row) >= 7:\n",
        "                print(row)\n",
        "                print('Lamps to be replaced:', the_minimum_lamps_to_replace)\n",
        "            the_minimum_lamps_to_replace = 0\n",
        "            index = next_lamp\n",
        "            distance = 20\n",
        "            row = [index]\n",
        "    break\n",
        "\n"
      ],
      "metadata": {
        "colab": {
          "base_uri": "https://localhost:8080/"
        },
        "id": "F3Jy7t5HAJ1F",
        "outputId": "fb0b9d73-027b-438a-e248-daf086685412"
      },
      "execution_count": 68,
      "outputs": [
        {
          "output_type": "stream",
          "name": "stdout",
          "text": [
            "[995, 996, 997, 998, 999, 1000, 1001]\n",
            "Lamps to be replaced: 1\n",
            "[1848, 1849, 1850, 1851, 1852, 1853, 1854]\n",
            "Lamps to be replaced: 1\n",
            "[3503, 3504, 3505, 3506, 3507, 3508, 3509]\n",
            "Lamps to be replaced: 1\n",
            "[4022, 4023, 4024, 4025, 4026, 4027, 4028]\n",
            "Lamps to be replaced: 1\n",
            "[4492, 4493, 4494, 4495, 4496, 4497, 4498]\n",
            "Lamps to be replaced: 1\n"
          ]
        }
      ]
    }
  ]
}